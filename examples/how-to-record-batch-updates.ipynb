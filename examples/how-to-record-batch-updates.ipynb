{
    "cells": [
        {
            "cell_type": "markdown",
            "source": [
                "# Example: keep a record of batch updates\n",
                "\n",
                "By default, the `update` method of a `MeanVarBatch` class object overwrites the previous values. It may be useful for debugging purposes to keep a record of the previous values. This is easy to do by appending the updated values to a Pandas `DataFrame` object using normal Pandas methods. Here is an example.\n",
                "\n",
                "First let's set up the example by creating some fake data to work with:"
            ],
            "metadata": {}
        },
        {
            "cell_type": "code",
            "execution_count": 1,
            "source": [
                "import numpy as np\n",
                "import stats_batch as sb\n",
                "\n",
                "# Set up example ----------------------------------------------\n",
                "# Simulate full sample\n",
                "n = 10_000\n",
                "a = np.random.normal(size=n, loc=0.1)"
            ],
            "outputs": [],
            "metadata": {}
        },
        {
            "cell_type": "markdown",
            "source": [
                "Now let's batch update and save each update to a `DataFrame` object called `suf_stats_df`:"
            ],
            "metadata": {}
        },
        {
            "cell_type": "code",
            "execution_count": 2,
            "source": [
                "for i, new_list in enumerate(sb.group_elements(a , 1_000)):\n",
                "    if i == 0:\n",
                "        mean_var_a = sb.mean_var_batch(new_list)\n",
                "        suf_stats_df = mean_var_a.to_pandas()\n",
                "    else:\n",
                "        mean_var_a.update(new_list)\n",
                "        suf_stats_df = suf_stats_df.append(mean_var_a.to_pandas())\n",
                "\n",
                "suf_stats_df.head()"
            ],
            "outputs": [
                {
                    "output_type": "execute_result",
                    "data": {
                        "text/plain": [
                            "       mean       var  sum_squared_dev  sample_size\n",
                            "0  0.090329  1.011066      1011.066333         1000\n",
                            "0  0.089078  1.013585      2026.156258         2000\n",
                            "0  0.101189  1.003203      3008.605613         3000\n",
                            "0  0.096670  1.023832      4094.302922         4000\n",
                            "0  0.096647  0.999413      4996.066320         5000"
                        ],
                        "text/html": [
                            "<div>\n",
                            "<style scoped>\n",
                            "    .dataframe tbody tr th:only-of-type {\n",
                            "        vertical-align: middle;\n",
                            "    }\n",
                            "\n",
                            "    .dataframe tbody tr th {\n",
                            "        vertical-align: top;\n",
                            "    }\n",
                            "\n",
                            "    .dataframe thead th {\n",
                            "        text-align: right;\n",
                            "    }\n",
                            "</style>\n",
                            "<table border=\"1\" class=\"dataframe\">\n",
                            "  <thead>\n",
                            "    <tr style=\"text-align: right;\">\n",
                            "      <th></th>\n",
                            "      <th>mean</th>\n",
                            "      <th>var</th>\n",
                            "      <th>sum_squared_dev</th>\n",
                            "      <th>sample_size</th>\n",
                            "    </tr>\n",
                            "  </thead>\n",
                            "  <tbody>\n",
                            "    <tr>\n",
                            "      <th>0</th>\n",
                            "      <td>0.090329</td>\n",
                            "      <td>1.011066</td>\n",
                            "      <td>1011.066333</td>\n",
                            "      <td>1000</td>\n",
                            "    </tr>\n",
                            "    <tr>\n",
                            "      <th>0</th>\n",
                            "      <td>0.089078</td>\n",
                            "      <td>1.013585</td>\n",
                            "      <td>2026.156258</td>\n",
                            "      <td>2000</td>\n",
                            "    </tr>\n",
                            "    <tr>\n",
                            "      <th>0</th>\n",
                            "      <td>0.101189</td>\n",
                            "      <td>1.003203</td>\n",
                            "      <td>3008.605613</td>\n",
                            "      <td>3000</td>\n",
                            "    </tr>\n",
                            "    <tr>\n",
                            "      <th>0</th>\n",
                            "      <td>0.096670</td>\n",
                            "      <td>1.023832</td>\n",
                            "      <td>4094.302922</td>\n",
                            "      <td>4000</td>\n",
                            "    </tr>\n",
                            "    <tr>\n",
                            "      <th>0</th>\n",
                            "      <td>0.096647</td>\n",
                            "      <td>0.999413</td>\n",
                            "      <td>4996.066320</td>\n",
                            "      <td>5000</td>\n",
                            "    </tr>\n",
                            "  </tbody>\n",
                            "</table>\n",
                            "</div>"
                        ]
                    },
                    "metadata": {},
                    "execution_count": 2
                }
            ],
            "metadata": {}
        },
        {
            "cell_type": "code",
            "execution_count": null,
            "source": [],
            "outputs": [],
            "metadata": {}
        }
    ],
    "metadata": {
        "orig_nbformat": 4,
        "language_info": {
            "name": "python",
            "version": "3.9.6",
            "mimetype": "text/x-python",
            "codemirror_mode": {
                "name": "ipython",
                "version": 3
            },
            "pygments_lexer": "ipython3",
            "nbconvert_exporter": "python",
            "file_extension": ".py"
        },
        "kernelspec": {
            "name": "python3",
            "display_name": "Python 3.9.6 64-bit ('python@3.9')"
        },
        "interpreter": {
            "hash": "50292dbb1f747f7151d445135d392af3138fb3c65386d17d9510cb605222b10b"
        }
    },
    "nbformat": 4,
    "nbformat_minor": 2
}