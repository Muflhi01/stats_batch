{
    "cells": [
        {
            "cell_type": "markdown",
            "source": [
                "# Example: keep a record of batch updates\n",
                "\n",
                "By default, the `update` method of a `MeanVarBatch` class object overwrites the previous values. It may be useful for debugging purposes to keep a record of the previous values. This is easy to do by appending the updated values to a Pandas `DataFrame` object using normal Pandas methods. Here is an example.\n",
                "\n",
                "First let's set up the example by creating some fake data to work with:"
            ],
            "metadata": {}
        },
        {
            "cell_type": "code",
            "execution_count": 4,
            "source": [
                "import numpy as np\n",
                "import stats_batch as sb\n",
                "from itertools import islice\n",
                "\n",
                "# Set up example ----------------------------------------------\n",
                "# Simulate full sample\n",
                "n = 10_000\n",
                "a = np.random.normal(size=n, loc=0.1)\n",
                "\n",
                "# Function to create batches from full samples\n",
                "def group_elements(lst, chunk_size):\n",
                "    lst = iter(lst)\n",
                "    return iter(lambda: tuple(islice(lst, chunk_size)), ())"
            ],
            "outputs": [],
            "metadata": {}
        },
        {
            "cell_type": "markdown",
            "source": [
                "Now let's batch update and save each update to a `DataFrame` object called `suf_stats_df`:"
            ],
            "metadata": {}
        },
        {
            "cell_type": "code",
            "execution_count": 8,
            "source": [
                "for i, new_list in enumerate(group_elements(a , 1_000)):\n",
                "    if i == 0:\n",
                "        mean_var_a = sb.mean_var_batch(new_list)\n",
                "        suf_stats_df = mean_var_a.to_pandas()\n",
                "    else:\n",
                "        mean_var_a.update(new_list)\n",
                "        suf_stats_df = suf_stats_df.append(mean_var_a.to_pandas())\n",
                "\n",
                "suf_stats_df.head()"
            ],
            "outputs": [
                {
                    "output_type": "execute_result",
                    "data": {
                        "text/plain": [
                            "       mean       var  sum_squared_dev  sample_size\n",
                            "0  0.096054  0.910451       910.451306         1000\n",
                            "0  0.081018  0.975073      1949.171564         2000\n",
                            "0  0.063200  0.999860      2998.580710         3000\n",
                            "0  0.086212  1.020739      4081.934294         4000\n",
                            "0  0.094086  1.013119      5064.580857         5000"
                        ],
                        "text/html": [
                            "<div>\n",
                            "<style scoped>\n",
                            "    .dataframe tbody tr th:only-of-type {\n",
                            "        vertical-align: middle;\n",
                            "    }\n",
                            "\n",
                            "    .dataframe tbody tr th {\n",
                            "        vertical-align: top;\n",
                            "    }\n",
                            "\n",
                            "    .dataframe thead th {\n",
                            "        text-align: right;\n",
                            "    }\n",
                            "</style>\n",
                            "<table border=\"1\" class=\"dataframe\">\n",
                            "  <thead>\n",
                            "    <tr style=\"text-align: right;\">\n",
                            "      <th></th>\n",
                            "      <th>mean</th>\n",
                            "      <th>var</th>\n",
                            "      <th>sum_squared_dev</th>\n",
                            "      <th>sample_size</th>\n",
                            "    </tr>\n",
                            "  </thead>\n",
                            "  <tbody>\n",
                            "    <tr>\n",
                            "      <th>0</th>\n",
                            "      <td>0.096054</td>\n",
                            "      <td>0.910451</td>\n",
                            "      <td>910.451306</td>\n",
                            "      <td>1000</td>\n",
                            "    </tr>\n",
                            "    <tr>\n",
                            "      <th>0</th>\n",
                            "      <td>0.081018</td>\n",
                            "      <td>0.975073</td>\n",
                            "      <td>1949.171564</td>\n",
                            "      <td>2000</td>\n",
                            "    </tr>\n",
                            "    <tr>\n",
                            "      <th>0</th>\n",
                            "      <td>0.063200</td>\n",
                            "      <td>0.999860</td>\n",
                            "      <td>2998.580710</td>\n",
                            "      <td>3000</td>\n",
                            "    </tr>\n",
                            "    <tr>\n",
                            "      <th>0</th>\n",
                            "      <td>0.086212</td>\n",
                            "      <td>1.020739</td>\n",
                            "      <td>4081.934294</td>\n",
                            "      <td>4000</td>\n",
                            "    </tr>\n",
                            "    <tr>\n",
                            "      <th>0</th>\n",
                            "      <td>0.094086</td>\n",
                            "      <td>1.013119</td>\n",
                            "      <td>5064.580857</td>\n",
                            "      <td>5000</td>\n",
                            "    </tr>\n",
                            "  </tbody>\n",
                            "</table>\n",
                            "</div>"
                        ]
                    },
                    "metadata": {},
                    "execution_count": 8
                }
            ],
            "metadata": {}
        }
    ],
    "metadata": {
        "orig_nbformat": 4,
        "language_info": {
            "name": "python",
            "version": "3.9.6",
            "mimetype": "text/x-python",
            "codemirror_mode": {
                "name": "ipython",
                "version": 3
            },
            "pygments_lexer": "ipython3",
            "nbconvert_exporter": "python",
            "file_extension": ".py"
        },
        "kernelspec": {
            "name": "python3",
            "display_name": "Python 3.9.6 64-bit ('python@3.9')"
        },
        "interpreter": {
            "hash": "50292dbb1f747f7151d445135d392af3138fb3c65386d17d9510cb605222b10b"
        }
    },
    "nbformat": 4,
    "nbformat_minor": 2
}