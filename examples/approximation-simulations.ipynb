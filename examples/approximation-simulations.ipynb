{
 "cells": [
  {
   "cell_type": "markdown",
   "source": [
    "# Approximation simulations [INCOMPLETE]\n",
    "\n",
    "One of the limitations of creating sufficient statistics via batch updating rather than finding the statistics all at once is that they are approximate due to rounding errors. \n",
    "\n",
    "How serious of a problem is this?\n",
    "\n",
    "Let's consider this problem through two sets of simulations:\n",
    "\n",
    "1. How does the approxiation error change as the number of batches increases?\n",
    "\n",
    "2. How does the approximation error change as the variance of the samples increaes?\n",
    "\n",
    "## Many batches"
   ],
   "metadata": {}
  },
  {
   "cell_type": "code",
   "execution_count": null,
   "source": [],
   "outputs": [],
   "metadata": {}
  },
  {
   "cell_type": "markdown",
   "source": [
    "## High variance samples"
   ],
   "metadata": {}
  }
 ],
 "metadata": {
  "orig_nbformat": 4,
  "language_info": {
   "name": "python",
   "version": "3.9.6"
  },
  "kernelspec": {
   "name": "python3",
   "display_name": "Python 3.9.6 64-bit ('python@3.9')"
  },
  "interpreter": {
   "hash": "50292dbb1f747f7151d445135d392af3138fb3c65386d17d9510cb605222b10b"
  }
 },
 "nbformat": 4,
 "nbformat_minor": 2
}